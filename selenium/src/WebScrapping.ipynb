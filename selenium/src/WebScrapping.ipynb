{
 "cells": [
  {
   "cell_type": "code",
   "execution_count": 1,
   "metadata": {},
   "outputs": [],
   "source": [
    "from selenium import webdriver\n",
    "from selenium.webdriver.common.keys import Keys\n",
    "import time\n",
    "from time import sleep\n",
    "import csv\n",
    "import pandas\n",
    "import numpy as np\n",
    "import unidecode"
   ]
  },
  {
   "cell_type": "code",
   "execution_count": 2,
   "metadata": {},
   "outputs": [],
   "source": [
    "# Función descargaPaginaWeb que permite recuperar la información correspondiente a la respuesta de la petición. \n",
    "# url: corresponde con la url del sitio donde se hará el web scraping\n",
    "def descargaPaginaWeb(url):\n",
    "    driver = webdriver.Firefox()\n",
    "    driver.get(url)\n",
    "    return driver\n",
    "\n",
    "# Función extraccion_datos que extrae de una página web la información requerida. La función retorna un dataframe con la \n",
    "# información de todos los sismos producidos y el nombre de los campos.\n",
    "# driver: driver utilizado para acceder a los datos de la página web\n",
    "def extraccion_datos(driver):\n",
    "    \n",
    "    # Número de eventos registrados en la página\n",
    "    filas = len(driver.find_elements_by_xpath(\"/html/body/div[2]/div[3]/div/div/div/div/div/div/div/div/table/tbody/tr\")) + 1\n",
    "  \n",
    "    # Número de campos de cada evento\n",
    "    campos = len(driver.find_elements_by_xpath(\"/html/body/div[2]/div[3]/div/div/div/div/div/div/div/div/table/tbody/tr[1]/th\"))\n",
    " \n",
    "    # Se obtiene el nombre de los campos\n",
    "    nombre_campos = []\n",
    "    for c in range(1, campos):\n",
    "        # obtaining the text from each column of the table\n",
    "        valor = driver.find_element_by_xpath(\"/html/body/div[2]/div[3]/div/div/div/div/div/div/div/div/table/tbody/tr[1]/th[\" + str(c) + \"]\").text\n",
    "        valor = arreglarCampo(valor).strip().replace('\\n','')\n",
    "        nombre_campos.append(valor)\n",
    "    \n",
    "    # Se obtienen los valores de cada fila de eventos\n",
    "    sismos = []\n",
    "    for f in range(2, filas):\n",
    "        evento = []\n",
    "        for c in range(1, campos):\n",
    "            valor = driver.find_element_by_xpath(\"/html/body/div[2]/div[3]/div/div/div/div/div/div/div/div/table/tbody/tr[\" + str(f) + \"]/td[\" + str(c) + \"]\").text\n",
    "            evento.append(valor)\n",
    "        sismos.append(evento)\n",
    "    \n",
    "    # Se crea un dataframe con la información\n",
    "    sismos_df = pandas.DataFrame(sismos, columns = nombre_campos)\n",
    "    return sismos_df\n",
    "\n",
    "# Función que elimina los acentos y la ñ de los campos de la tabla\n",
    "def arreglarCampo(campo):\n",
    "    s = ''.join(c for c in unicodedata.normalize('NFD', campo) if unicodedata.category(c) != 'Mn')\n",
    "    return s\n",
    "    \n",
    "# Función crearArchivoCSVDesdeDF que crea un archivo csv a partir de una lista de diccionarios.\n",
    "# dataFrame: data frame con la información\n",
    "# nombreArchivo: nombre del archivo csv\n",
    "def crearArchivoCSVDesdeDF(dataFrame, nombreArchivo):\n",
    "    dataFrame.to_csv(nombreArchivo, index = False)\n"
   ]
  },
  {
   "cell_type": "code",
   "execution_count": 3,
   "metadata": {},
   "outputs": [],
   "source": [
    "# Función principal\n",
    "def main():\n",
    "    driver = descargaPaginaWeb('https://www.ign.es/web/ign/portal/ultimos-terremotos/-/ultimos-terremotos/getAnio')\n",
    "    sleep(2) # esperar un tiempo como dice la especificación\n",
    "    sismos_df = extraccion_datos(driver)\n",
    "    crearArchivoCSVDesdeDF(sismos_df, 'sismos2021.csv')\n"
   ]
  },
  {
   "cell_type": "code",
   "execution_count": 6,
   "metadata": {
    "scrolled": true
   },
   "outputs": [
    {
     "data": {
      "text/plain": [
       "'localizacion y logrono'"
      ]
     },
     "execution_count": 6,
     "metadata": {},
     "output_type": "execute_result"
    }
   ],
   "source": [
    "import unidecode\n",
    "arreglarCampo('localización y logroño')"
   ]
  },
  {
   "cell_type": "code",
   "execution_count": null,
   "metadata": {},
   "outputs": [],
   "source": []
  },
  {
   "cell_type": "code",
   "execution_count": null,
   "metadata": {},
   "outputs": [],
   "source": []
  }
 ],
 "metadata": {
  "kernelspec": {
   "display_name": "Python 3",
   "language": "python",
   "name": "python3"
  },
  "language_info": {
   "codemirror_mode": {
    "name": "ipython",
    "version": 3
   },
   "file_extension": ".py",
   "mimetype": "text/x-python",
   "name": "python",
   "nbconvert_exporter": "python",
   "pygments_lexer": "ipython3",
   "version": "3.6.2"
  }
 },
 "nbformat": 4,
 "nbformat_minor": 4
}
